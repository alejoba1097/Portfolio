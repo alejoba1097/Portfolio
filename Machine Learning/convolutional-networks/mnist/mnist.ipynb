{
 "cells": [
  {
   "cell_type": "code",
   "execution_count": 4,
   "metadata": {},
   "outputs": [],
   "source": [
    "import torch\n",
    "import torchvision\n",
    "import torchvision.transforms as transforms\n",
    "import torch.nn as nn\n",
    "import numpy as np\n",
    "import matplotlib.pyplot as plt\n",
    "from PIL import Image"
   ]
  },
  {
   "cell_type": "code",
   "execution_count": 2,
   "metadata": {},
   "outputs": [],
   "source": [
    "model = nn.Sequential(\n",
    "    nn.Conv2d(1,32,3),\n",
    "    nn.ReLU(),\n",
    "    nn.MaxPool2d(5),\n",
    "    nn.Conv2d(1,64,3),\n",
    "    nn.ReLU(),\n",
    "    nn.MaxPool2d(4),\n",
    "    nn.Conv2d(1,128,3),\n",
    "    nn.ReLU(),\n",
    "    nn.MaxPool2d(5),\n",
    "    nn.Conv2d(1,256,3),\n",
    "    nn.ReLU(),\n",
    "    nn.MaxPool2d(5),\n",
    "    nn.Flatten(),\n",
    "    nn.Linear(256,2),\n",
    "    nn.Softmax2d()\n",
    ")"
   ]
  },
  {
   "cell_type": "code",
   "execution_count": 34,
   "metadata": {},
   "outputs": [
    {
     "data": {
      "image/png": "[encoded data removed]",
      "text/plain": [
       "<Figure size 640x480 with 1 Axes>"
      ]
     },
     "metadata": {},
     "output_type": "display_data"
    }
   ],
   "source": [
    "image_input = Image.open(\"/home/alejoba1097/Alejandro Barrientos/Desktop/A.png\")\n",
    "img_array = torch.tensor(np.array(image_input.convert('1')).astype(int))\n",
    "img_array = img_array.reshape(1, 16, 16).float()\n",
    "plt.imshow(img_array[0])\n",
    "plt.show()"
   ]
  },
  {
   "cell_type": "code",
   "execution_count": 159,
   "metadata": {},
   "outputs": [],
   "source": [
    "from torchvision.transforms.functional import rotate\n",
    "img_array2 = rotate(img_array, 180)"
   ]
  },
  {
   "cell_type": "code",
   "execution_count": 25,
   "metadata": {},
   "outputs": [],
   "source": [
    "model = nn.Sequential(\n",
    "    nn.Conv2d(1, 16, 3),\n",
    "    nn.ReLU(),\n",
    "    nn.MaxPool2d(2, 2),\n",
    "    nn.Conv2d(16, 32, 3),\n",
    "    nn.ReLU(),\n",
    "    nn.MaxPool2d(2, 2),\n",
    "    nn.Flatten(-3),\n",
    "    nn.Linear(128, 2),\n",
    "    nn.Softmax(0)\n",
    ")"
   ]
  },
  {
   "cell_type": "code",
   "execution_count": 162,
   "metadata": {},
   "outputs": [],
   "source": [
    "loss_fn = nn.CrossEntropyLoss()\n",
    "\n",
    "opt  = torch.optim.Adam(model.parameters(), lr = 0.001)"
   ]
  },
  {
   "cell_type": "code",
   "execution_count": 167,
   "metadata": {},
   "outputs": [
    {
     "name": "stdout",
     "output_type": "stream",
     "text": [
      "tensor(0.3133, grad_fn=<DivBackward1>)\n",
      "tensor(0.3133, grad_fn=<DivBackward1>)\n",
      "tensor(0.3133, grad_fn=<DivBackward1>)\n",
      "tensor(0.3133, grad_fn=<DivBackward1>)\n",
      "tensor(0.3133, grad_fn=<DivBackward1>)\n",
      "tensor(0.3133, grad_fn=<DivBackward1>)\n",
      "tensor(0.3133, grad_fn=<DivBackward1>)\n",
      "tensor(0.3133, grad_fn=<DivBackward1>)\n",
      "tensor(0.3133, grad_fn=<DivBackward1>)\n",
      "tensor(0.3133, grad_fn=<DivBackward1>)\n"
     ]
    }
   ],
   "source": [
    "for i in range(10):\n",
    "    for j in range(2):\n",
    "        if j == 0:\n",
    "            outputs = model(img_array)\n",
    "        else:\n",
    "            outputs = model(img_array2)\n",
    "        loss = loss_fn(outputs, torch.tensor([1., 0.]))\n",
    "        loss.backward()\n",
    "        opt.step()\n",
    "\n",
    "    print(loss)"
   ]
  },
  {
   "cell_type": "markdown",
   "metadata": {},
   "source": [
    "# Use MNIST dataset"
   ]
  },
  {
   "cell_type": "code",
   "execution_count": 64,
   "metadata": {},
   "outputs": [],
   "source": [
    "train_data = torchvision.datasets.MNIST(\"./\", train = True, download=True, transform=transforms.ToTensor())\n",
    "train_loader = torch.utils.data.DataLoader(train_data, batch_size = 16, shuffle = True, num_workers = 2)\n",
    "\n",
    "test_data = torchvision.datasets.MNIST(\"./\", train = False, download=True, transform=transforms.ToTensor())\n",
    "test_loader = torch.utils.data.DataLoader(test_data, batch_size = 16, shuffle = True, num_workers = 2)"
   ]
  },
  {
   "cell_type": "code",
   "execution_count": 40,
   "metadata": {},
   "outputs": [],
   "source": [
    "model = nn.Sequential(\n",
    "    nn.Conv2d(1, 16, 3),\n",
    "    nn.ReLU(),\n",
    "    nn.MaxPool2d(2, 2),\n",
    "    nn.Conv2d(16, 32, 3),\n",
    "    nn.ReLU(),\n",
    "    nn.MaxPool2d(2, 2),\n",
    "    nn.Flatten(-3),\n",
    "    nn.Linear(800, 10),\n",
    "    nn.Softmax(0)\n",
    ")"
   ]
  },
  {
   "cell_type": "code",
   "execution_count": 41,
   "metadata": {},
   "outputs": [],
   "source": [
    "loss_fn = nn.CrossEntropyLoss()\n",
    "\n",
    "opt  = torch.optim.Adam(model.parameters(), lr = 0.001)"
   ]
  },
  {
   "cell_type": "code",
   "execution_count": 45,
   "metadata": {},
   "outputs": [
    {
     "name": "stdout",
     "output_type": "stream",
     "text": [
      "tensor(1.9480, grad_fn=<NllLossBackward0>)\n",
      "tensor(1.8313, grad_fn=<NllLossBackward0>)\n",
      "tensor(1.8898, grad_fn=<NllLossBackward0>)\n",
      "tensor(1.8311, grad_fn=<NllLossBackward0>)\n",
      "tensor(1.9046, grad_fn=<NllLossBackward0>)\n",
      "tensor(1.8866, grad_fn=<NllLossBackward0>)\n",
      "tensor(1.8306, grad_fn=<NllLossBackward0>)\n",
      "tensor(1.8274, grad_fn=<NllLossBackward0>)\n",
      "tensor(1.8296, grad_fn=<NllLossBackward0>)\n",
      "tensor(1.8877, grad_fn=<NllLossBackward0>)\n",
      "tensor(1.8889, grad_fn=<NllLossBackward0>)\n",
      "tensor(1.8932, grad_fn=<NllLossBackward0>)\n",
      "tensor(1.8280, grad_fn=<NllLossBackward0>)\n",
      "tensor(1.9507, grad_fn=<NllLossBackward0>)\n",
      "tensor(1.8871, grad_fn=<NllLossBackward0>)\n",
      "tensor(1.9441, grad_fn=<NllLossBackward0>)\n",
      "tensor(1.8907, grad_fn=<NllLossBackward0>)\n",
      "tensor(1.8886, grad_fn=<NllLossBackward0>)\n",
      "tensor(1.8851, grad_fn=<NllLossBackward0>)\n",
      "tensor(1.8255, grad_fn=<NllLossBackward0>)\n",
      "tensor(1.8867, grad_fn=<NllLossBackward0>)\n",
      "tensor(1.8338, grad_fn=<NllLossBackward0>)\n",
      "tensor(1.8275, grad_fn=<NllLossBackward0>)\n",
      "tensor(1.9436, grad_fn=<NllLossBackward0>)\n",
      "tensor(1.9462, grad_fn=<NllLossBackward0>)\n"
     ]
    }
   ],
   "source": [
    "for i in range(25):\n",
    "    for i, data in enumerate(train_loader, 0):\n",
    "        inputs, label = data\n",
    "        opt.zero_grad()\n",
    "\n",
    "        outputs = model(inputs)\n",
    "\n",
    "        loss = loss_fn(outputs, label)\n",
    "        loss.backward()\n",
    "        opt.step()\n",
    "\n",
    "    print(loss)"
   ]
  },
  {
   "cell_type": "code",
   "execution_count": 47,
   "metadata": {},
   "outputs": [],
   "source": [
    "torch.save(model.state_dict(), './mnist_model.pth')"
   ]
  },
  {
   "cell_type": "code",
   "execution_count": 71,
   "metadata": {},
   "outputs": [],
   "source": [
    "dataiter = iter(test_loader)\n",
    "images, labels = next(dataiter)"
   ]
  },
  {
   "cell_type": "code",
   "execution_count": 75,
   "metadata": {},
   "outputs": [
    {
     "data": {
      "text/plain": [
       "<matplotlib.image.AxesImage at 0x7fd1798addb0>"
      ]
     },
     "execution_count": 75,
     "metadata": {},
     "output_type": "execute_result"
    },
    {
     "data": {
      "image/png": "[encoded data removed]",
      "text/plain": [
       "<Figure size 640x480 with 1 Axes>"
      ]
     },
     "metadata": {},
     "output_type": "display_data"
    }
   ],
   "source": [
    "plt.imshow(torchvision.utils.make_grid(images)[0])"
   ]
  },
  {
   "cell_type": "code",
   "execution_count": 93,
   "metadata": {},
   "outputs": [
    {
     "name": "stdout",
     "output_type": "stream",
     "text": [
      "0.625\n"
     ]
    }
   ],
   "source": [
    "correct = 0\n",
    "total = 0\n",
    "\n",
    "with torch.no_grad():\n",
    "    for data in test_loader:\n",
    "        images, labels = data\n",
    "        outputs = model(images)\n",
    "\n",
    "        _, predicted = torch.max(outputs.data, 1)\n",
    "\n",
    "        total += labels.size(0)\n",
    "        correct += (predicted == labels).sum().item()\n",
    "        break\n",
    "\n",
    "print(correct / total)"
   ]
  },
  {
   "cell_type": "code",
   "execution_count": 99,
   "metadata": {},
   "outputs": [
    {
     "name": "stdout",
     "output_type": "stream",
     "text": [
      "0  0.9102040816326531\n",
      "1  0.8546255506607929\n",
      "2  0.874031007751938\n",
      "3  0.9178217821782179\n",
      "4  0.8859470468431772\n",
      "5  0.9069506726457399\n",
      "6  0.9008350730688935\n",
      "7  0.8657587548638133\n",
      "8  0.8809034907597536\n",
      "9  0.8404360753221011\n"
     ]
    }
   ],
   "source": [
    "# prepare to count predictions for each class\n",
    "correct_pred = {i : 0 for i in range(10)}\n",
    "total_pred = {i : 0 for i in range(10)}\n",
    "\n",
    "# again no gradients needed\n",
    "with torch.no_grad():\n",
    "    for data in test_loader:\n",
    "        images, labels = data\n",
    "        outputs = model(images)\n",
    "\n",
    "        _, predictions = torch.max(outputs, 1)\n",
    "\n",
    "        # collect the correct predictions for each class\n",
    "        for label, prediction in zip(labels, predictions):\n",
    "            if label == prediction:\n",
    "                correct_pred[label.item()] += 1\n",
    "            total_pred[label.item()] += 1\n",
    "\n",
    "\n",
    "# print accuracy for each class\n",
    "for classname, correct_count in correct_pred.items():\n",
    "    accuracy = float(correct_count) / total_pred[classname]\n",
    "    print(classname, \"\", accuracy)"
   ]
  }
 ],
 "metadata": {
  "kernelspec": {
   "display_name": "Python 3",
   "language": "python",
   "name": "python3"
  },
  "language_info": {
   "codemirror_mode": {
    "name": "ipython",
    "version": 3
   },
   "file_extension": ".py",
   "mimetype": "text/x-python",
   "name": "python",
   "nbconvert_exporter": "python",
   "pygments_lexer": "ipython3",
   "version": "3.10.12"
  }
 },
 "nbformat": 4,
 "nbformat_minor": 2
}
